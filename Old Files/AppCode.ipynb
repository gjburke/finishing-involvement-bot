{
  "nbformat": 4,
  "nbformat_minor": 0,
  "metadata": {
    "colab": {
      "provenance": []
    },
    "kernelspec": {
      "name": "python3",
      "display_name": "Python 3"
    },
    "language_info": {
      "name": "python"
    }
  },
  "cells": [
    {
      "cell_type": "code",
      "execution_count": null,
      "metadata": {
        "id": "jZxGz-M9Rsr7"
      },
      "outputs": [],
      "source": [
        "#SUPER SUPER SIMPLE POST REQUEST FROM HTML PAGE\n",
        "\n",
        "from flask import Flask, request, jsonify\n",
        "import json\n",
        "from MLModelScript import predict_category_and_intensity\n",
        "\n",
        "#We are using FLASK for our API of choice -- it parses requests from javascript to Python\n",
        "app = Flask(__name__)\n",
        "\n",
        "#Post Request!! We are taking in the sent data from JavaScript\n",
        "@app.route('/submit', methods=['POST'])\n",
        "def handle_query():\n",
        "    #what data does the request hold (it is in JSON file format), let's parse the request and take in JSON, that's what we are using anyway\n",
        "    data = request.json\n",
        "    #Put in the JSON into our ML model function!\n",
        "    result = predict_category_and_intensity(json.dumps(data))\n",
        "    #return the result!!! (THIS GOES BACK TO THE HTML)\n",
        "    return jsonify(result)\n",
        "\n",
        "if __name__ == '__main__':\n",
        "    app.run(debug=True)\n",
        "\n"
      ]
    }
  ]
}