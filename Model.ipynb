{
  "nbformat": 4,
  "nbformat_minor": 0,
  "metadata": {
    "colab": {
      "provenance": []
    },
    "kernelspec": {
      "name": "python3",
      "display_name": "Python 3"
    },
    "language_info": {
      "name": "python"
    }
  },
  "cells": [
    {
      "cell_type": "code",
      "source": [
        "!pip install tensorflow==2.9.0"
      ],
      "metadata": {
        "colab": {
          "base_uri": "https://localhost:8080/"
        },
        "id": "gYcREJmyOXmH",
        "outputId": "f43f2be3-7365-42a7-d476-9f53490352c6"
      },
      "execution_count": 48,
      "outputs": [
        {
          "output_type": "stream",
          "name": "stdout",
          "text": [
            "Requirement already satisfied: tensorflow==2.9.0 in /usr/local/lib/python3.10/dist-packages (2.9.0)\n",
            "Requirement already satisfied: absl-py>=1.0.0 in /usr/local/lib/python3.10/dist-packages (from tensorflow==2.9.0) (1.4.0)\n",
            "Requirement already satisfied: astunparse>=1.6.0 in /usr/local/lib/python3.10/dist-packages (from tensorflow==2.9.0) (1.6.3)\n",
            "Requirement already satisfied: flatbuffers<2,>=1.12 in /usr/local/lib/python3.10/dist-packages (from tensorflow==2.9.0) (1.12)\n",
            "Requirement already satisfied: gast<=0.4.0,>=0.2.1 in /usr/local/lib/python3.10/dist-packages (from tensorflow==2.9.0) (0.4.0)\n",
            "Requirement already satisfied: google-pasta>=0.1.1 in /usr/local/lib/python3.10/dist-packages (from tensorflow==2.9.0) (0.2.0)\n",
            "Requirement already satisfied: grpcio<2.0,>=1.24.3 in /usr/local/lib/python3.10/dist-packages (from tensorflow==2.9.0) (1.63.0)\n",
            "Requirement already satisfied: h5py>=2.9.0 in /usr/local/lib/python3.10/dist-packages (from tensorflow==2.9.0) (3.9.0)\n",
            "Requirement already satisfied: keras<2.10.0,>=2.9.0rc0 in /usr/local/lib/python3.10/dist-packages (from tensorflow==2.9.0) (2.9.0)\n",
            "Requirement already satisfied: keras-preprocessing>=1.1.1 in /usr/local/lib/python3.10/dist-packages (from tensorflow==2.9.0) (1.1.2)\n",
            "Requirement already satisfied: libclang>=13.0.0 in /usr/local/lib/python3.10/dist-packages (from tensorflow==2.9.0) (18.1.1)\n",
            "Requirement already satisfied: numpy>=1.20 in /usr/local/lib/python3.10/dist-packages (from tensorflow==2.9.0) (1.25.2)\n",
            "Requirement already satisfied: opt-einsum>=2.3.2 in /usr/local/lib/python3.10/dist-packages (from tensorflow==2.9.0) (3.3.0)\n",
            "Requirement already satisfied: packaging in /usr/local/lib/python3.10/dist-packages (from tensorflow==2.9.0) (24.0)\n",
            "Requirement already satisfied: protobuf>=3.9.2 in /usr/local/lib/python3.10/dist-packages (from tensorflow==2.9.0) (3.19.6)\n",
            "Requirement already satisfied: setuptools in /usr/local/lib/python3.10/dist-packages (from tensorflow==2.9.0) (67.7.2)\n",
            "Requirement already satisfied: six>=1.12.0 in /usr/local/lib/python3.10/dist-packages (from tensorflow==2.9.0) (1.16.0)\n",
            "Requirement already satisfied: tensorboard<2.10,>=2.9 in /usr/local/lib/python3.10/dist-packages (from tensorflow==2.9.0) (2.9.1)\n",
            "Requirement already satisfied: tensorflow-io-gcs-filesystem>=0.23.1 in /usr/local/lib/python3.10/dist-packages (from tensorflow==2.9.0) (0.37.0)\n",
            "Requirement already satisfied: tensorflow-estimator<2.10.0,>=2.9.0rc0 in /usr/local/lib/python3.10/dist-packages (from tensorflow==2.9.0) (2.9.0)\n",
            "Requirement already satisfied: termcolor>=1.1.0 in /usr/local/lib/python3.10/dist-packages (from tensorflow==2.9.0) (2.4.0)\n",
            "Requirement already satisfied: typing-extensions>=3.6.6 in /usr/local/lib/python3.10/dist-packages (from tensorflow==2.9.0) (4.11.0)\n",
            "Requirement already satisfied: wrapt>=1.11.0 in /usr/local/lib/python3.10/dist-packages (from tensorflow==2.9.0) (1.14.1)\n",
            "Requirement already satisfied: wheel<1.0,>=0.23.0 in /usr/local/lib/python3.10/dist-packages (from astunparse>=1.6.0->tensorflow==2.9.0) (0.43.0)\n",
            "Requirement already satisfied: google-auth<3,>=1.6.3 in /usr/local/lib/python3.10/dist-packages (from tensorboard<2.10,>=2.9->tensorflow==2.9.0) (2.27.0)\n",
            "Requirement already satisfied: google-auth-oauthlib<0.5,>=0.4.1 in /usr/local/lib/python3.10/dist-packages (from tensorboard<2.10,>=2.9->tensorflow==2.9.0) (0.4.6)\n",
            "Requirement already satisfied: markdown>=2.6.8 in /usr/local/lib/python3.10/dist-packages (from tensorboard<2.10,>=2.9->tensorflow==2.9.0) (3.6)\n",
            "Requirement already satisfied: requests<3,>=2.21.0 in /usr/local/lib/python3.10/dist-packages (from tensorboard<2.10,>=2.9->tensorflow==2.9.0) (2.31.0)\n",
            "Requirement already satisfied: tensorboard-data-server<0.7.0,>=0.6.0 in /usr/local/lib/python3.10/dist-packages (from tensorboard<2.10,>=2.9->tensorflow==2.9.0) (0.6.1)\n",
            "Requirement already satisfied: tensorboard-plugin-wit>=1.6.0 in /usr/local/lib/python3.10/dist-packages (from tensorboard<2.10,>=2.9->tensorflow==2.9.0) (1.8.1)\n",
            "Requirement already satisfied: werkzeug>=1.0.1 in /usr/local/lib/python3.10/dist-packages (from tensorboard<2.10,>=2.9->tensorflow==2.9.0) (3.0.2)\n",
            "Requirement already satisfied: cachetools<6.0,>=2.0.0 in /usr/local/lib/python3.10/dist-packages (from google-auth<3,>=1.6.3->tensorboard<2.10,>=2.9->tensorflow==2.9.0) (5.3.3)\n",
            "Requirement already satisfied: pyasn1-modules>=0.2.1 in /usr/local/lib/python3.10/dist-packages (from google-auth<3,>=1.6.3->tensorboard<2.10,>=2.9->tensorflow==2.9.0) (0.4.0)\n",
            "Requirement already satisfied: rsa<5,>=3.1.4 in /usr/local/lib/python3.10/dist-packages (from google-auth<3,>=1.6.3->tensorboard<2.10,>=2.9->tensorflow==2.9.0) (4.9)\n",
            "Requirement already satisfied: requests-oauthlib>=0.7.0 in /usr/local/lib/python3.10/dist-packages (from google-auth-oauthlib<0.5,>=0.4.1->tensorboard<2.10,>=2.9->tensorflow==2.9.0) (1.3.1)\n",
            "Requirement already satisfied: charset-normalizer<4,>=2 in /usr/local/lib/python3.10/dist-packages (from requests<3,>=2.21.0->tensorboard<2.10,>=2.9->tensorflow==2.9.0) (3.3.2)\n",
            "Requirement already satisfied: idna<4,>=2.5 in /usr/local/lib/python3.10/dist-packages (from requests<3,>=2.21.0->tensorboard<2.10,>=2.9->tensorflow==2.9.0) (3.7)\n",
            "Requirement already satisfied: urllib3<3,>=1.21.1 in /usr/local/lib/python3.10/dist-packages (from requests<3,>=2.21.0->tensorboard<2.10,>=2.9->tensorflow==2.9.0) (2.0.7)\n",
            "Requirement already satisfied: certifi>=2017.4.17 in /usr/local/lib/python3.10/dist-packages (from requests<3,>=2.21.0->tensorboard<2.10,>=2.9->tensorflow==2.9.0) (2024.2.2)\n",
            "Requirement already satisfied: MarkupSafe>=2.1.1 in /usr/local/lib/python3.10/dist-packages (from werkzeug>=1.0.1->tensorboard<2.10,>=2.9->tensorflow==2.9.0) (2.1.5)\n",
            "Requirement already satisfied: pyasn1<0.7.0,>=0.4.6 in /usr/local/lib/python3.10/dist-packages (from pyasn1-modules>=0.2.1->google-auth<3,>=1.6.3->tensorboard<2.10,>=2.9->tensorflow==2.9.0) (0.6.0)\n",
            "Requirement already satisfied: oauthlib>=3.0.0 in /usr/local/lib/python3.10/dist-packages (from requests-oauthlib>=0.7.0->google-auth-oauthlib<0.5,>=0.4.1->tensorboard<2.10,>=2.9->tensorflow==2.9.0) (3.2.2)\n"
          ]
        }
      ]
    },
    {
      "cell_type": "code",
      "execution_count": 49,
      "metadata": {
        "id": "1ayqJzLQt6Be"
      },
      "outputs": [],
      "source": [
        "import pandas as pd\n",
        "from tensorflow import keras\n",
        "import sklearn.metrics as metrics\n",
        "from keras.preprocessing.text import Tokenizer\n",
        "from keras_preprocessing.sequence import pad_sequences\n",
        "from sklearn.model_selection import train_test_split\n",
        "from keras.utils import to_categorical\n",
        "import numpy as np\n",
        "from keras.models import Sequential\n",
        "from keras.layers import Embedding, GlobalAveragePooling1D, Dense, LSTM, Bidirectional\n",
        "from keras.utils import to_categorical\n",
        "import joblib"
      ]
    },
    {
      "cell_type": "code",
      "source": [
        "print(keras.__version__)"
      ],
      "metadata": {
        "colab": {
          "base_uri": "https://localhost:8080/"
        },
        "id": "PyAo3CFpdTYw",
        "outputId": "3a1630e3-9282-4157-bfcc-228caa009bd8"
      },
      "execution_count": 50,
      "outputs": [
        {
          "output_type": "stream",
          "name": "stdout",
          "text": [
            "2.9.0\n"
          ]
        }
      ]
    },
    {
      "cell_type": "code",
      "source": [
        "# Returns X_train, X_test, y_train, y_test that works with model\n",
        "def get_training_data(X, y, labels):\n",
        "  labels_map = {k: v for v, k in enumerate(labels)}\n",
        "  y_num = np.zeros_like(y, dtype=float)\n",
        "  for i in range(y_num.shape[0]):\n",
        "    y_num[i] = labels_map[y[i]]\n",
        "  y_num = to_categorical(y_num, num_classes=len(labels))\n",
        "  return train_test_split(X, y_num, test_size=0.2, random_state=30)"
      ],
      "metadata": {
        "id": "5cmZARyKuJk7"
      },
      "execution_count": 51,
      "outputs": []
    },
    {
      "cell_type": "code",
      "source": [
        "# Takes in training and testing data, outputs tokenized and padded\n",
        "def standardize_data(X_train, X_test, word_count):\n",
        "  tokenizer = Tokenizer(num_words=word_count, oov_token=\"<OOV>\")\n",
        "  tokenizer.fit_on_texts(X_train)\n",
        "  X_train_seq = tokenizer.texts_to_sequences(X_train)\n",
        "  X_test_seq = tokenizer.texts_to_sequences(X_test)\n",
        "\n",
        "  filename = 'tokenizer_' + str(word_count) + '.joblib'\n",
        "  joblib.dump(tokenizer, filename)\n",
        "\n",
        "  # loading\n",
        "  #joblib.load(path)\n",
        "\n",
        "  max_length = max(len(x) for x in X_train_seq)\n",
        "  print(max_length)\n",
        "  X_train_padded = pad_sequences(X_train_seq, maxlen=max_length, padding='post')\n",
        "  X_test_padded = pad_sequences(X_test_seq, maxlen=max_length, padding='post')\n",
        "\n",
        "  return X_train_padded, X_test_padded, max_length"
      ],
      "metadata": {
        "id": "S_HXi61GxTuw"
      },
      "execution_count": 52,
      "outputs": []
    },
    {
      "cell_type": "code",
      "source": [
        "# Loading the data\n",
        "\n",
        "df = pd.read_csv('final data.csv')\n",
        "df.dropna(subset=['Intensity'], inplace=True)\n",
        "df.dropna(subset=['Classification'], inplace=True)\n",
        "print(df)\n",
        "\n",
        "# Load intensity data\n",
        "# intensity_df = pd.read_csv('/content/Intensity Database - Attempt 2.csv')\n",
        "# intensity_df.dropna(subset=['Intensity'], inplace=True)\n",
        "# intensity_df.dropna(subset=['Classification'], inplace=True)\n",
        "# intensity_df"
      ],
      "metadata": {
        "colab": {
          "base_uri": "https://localhost:8080/"
        },
        "id": "ooJ0lOnDykMs",
        "outputId": "f0e7fd48-b879-46e6-c2b9-0a87e886344d"
      },
      "execution_count": 53,
      "outputs": [
        {
          "output_type": "stream",
          "name": "stdout",
          "text": [
            "                                                  Query Classification  \\\n",
            "0     Are there any general debate teams around campus?           Arts   \n",
            "1     Hello, I'm new to campus and I'm looking to fi...           Arts   \n",
            "2     I am interested in art and want to learn more ...           Arts   \n",
            "3     I am really looking to design and build new th...           Arts   \n",
            "4     I like drawing in my leisure time, is there a ...           Arts   \n",
            "...                                                 ...            ...   \n",
            "2919  Strong public speaking skills and passionate a...        Service   \n",
            "2920  Experienced fundraiser and passionate about en...        Service   \n",
            "2921  Data analyst student with a strong work ethic ...        Service   \n",
            "2922  Experienced grant writer and passionate about ...        Service   \n",
            "2923  Strong research skills and passionate about fo...        Service   \n",
            "\n",
            "      Intensity  \n",
            "0             1  \n",
            "1             1  \n",
            "2             1  \n",
            "3             1  \n",
            "4             1  \n",
            "...         ...  \n",
            "2919          3  \n",
            "2920          3  \n",
            "2921          3  \n",
            "2922          3  \n",
            "2923          3  \n",
            "\n",
            "[2924 rows x 3 columns]\n"
          ]
        }
      ]
    },
    {
      "cell_type": "code",
      "source": [
        "# Experimenting with the priority model\n",
        "dict_word_count = 2500\n",
        "\n",
        "# Getting relevant data\n",
        "queries = df['Query'].values\n",
        "intensity = df['Intensity'].values\n",
        "intensity_labels = [1, 2, 3]\n",
        "\n",
        "# Morphing data to form into model\n",
        "X_train, X_test, y_train_intensity, y_test_intensity = get_training_data(queries, intensity, intensity_labels)\n",
        "X_train_padded, X_test_padded, max_length = standardize_data(X_train, X_test, dict_word_count)\n",
        "\n",
        "# Create model\n",
        "intensity_model = Sequential([\n",
        "    Embedding(input_dim=dict_word_count, output_dim=4,input_length=max_length),\n",
        "    #LSTM(units=2, dropout=0.5, return_sequences=True),\n",
        "    LSTM(units=5, dropout=0.6),\n",
        "    Dense(3, activation='softmax')\n",
        "])\n",
        "\n",
        "intensity_model.compile(loss='categorical_crossentropy', optimizer='adam', metrics=['accuracy'])\n",
        "intensity_model.summary()\n",
        "\n",
        "# Fit model and show how it went\n",
        "history = intensity_model.fit(X_train_padded, y_train_intensity, epochs=10, validation_data=(X_test_padded, y_test_intensity))\n",
        "test_loss, test_acc = intensity_model.evaluate(X_test_padded, y_test_intensity, verbose=2)\n",
        "\n",
        "print('\\nTest accuracy:', test_acc)\n",
        "\n",
        "predictions = intensity_model.predict(X_test_padded)\n",
        "predicted_priorities = np.argmax(predictions, axis=1)\n",
        "\n",
        "# save model\n",
        "intensity_model.save(\"intensity_model.keras\")\n"
      ],
      "metadata": {
        "colab": {
          "base_uri": "https://localhost:8080/"
        },
        "id": "vV09LBXXySrx",
        "outputId": "279ba85f-291e-49ce-e187-e3645f45a308"
      },
      "execution_count": 54,
      "outputs": [
        {
          "output_type": "stream",
          "name": "stdout",
          "text": [
            "35\n",
            "Model: \"sequential_4\"\n",
            "_________________________________________________________________\n",
            " Layer (type)                Output Shape              Param #   \n",
            "=================================================================\n",
            " embedding_4 (Embedding)     (None, 35, 4)             10000     \n",
            "                                                                 \n",
            " lstm_4 (LSTM)               (None, 5)                 200       \n",
            "                                                                 \n",
            " dense_4 (Dense)             (None, 3)                 18        \n",
            "                                                                 \n",
            "=================================================================\n",
            "Total params: 10,218\n",
            "Trainable params: 10,218\n",
            "Non-trainable params: 0\n",
            "_________________________________________________________________\n",
            "Epoch 1/10\n",
            "74/74 [==============================] - 4s 27ms/step - loss: 1.0981 - accuracy: 0.3433 - val_loss: 1.0963 - val_accuracy: 0.4034\n",
            "Epoch 2/10\n",
            "74/74 [==============================] - 2s 21ms/step - loss: 1.0956 - accuracy: 0.3557 - val_loss: 1.0824 - val_accuracy: 0.4444\n",
            "Epoch 3/10\n",
            "74/74 [==============================] - 1s 20ms/step - loss: 1.0191 - accuracy: 0.4639 - val_loss: 0.9465 - val_accuracy: 0.5368\n",
            "Epoch 4/10\n",
            "74/74 [==============================] - 2s 22ms/step - loss: 0.9433 - accuracy: 0.5177 - val_loss: 0.9190 - val_accuracy: 0.5590\n",
            "Epoch 5/10\n",
            "74/74 [==============================] - 1s 20ms/step - loss: 0.8987 - accuracy: 0.5408 - val_loss: 0.8951 - val_accuracy: 0.5573\n",
            "Epoch 6/10\n",
            "74/74 [==============================] - 2s 25ms/step - loss: 0.8769 - accuracy: 0.5502 - val_loss: 0.8942 - val_accuracy: 0.5504\n",
            "Epoch 7/10\n",
            "74/74 [==============================] - 2s 27ms/step - loss: 0.8479 - accuracy: 0.5682 - val_loss: 0.9225 - val_accuracy: 0.5641\n",
            "Epoch 8/10\n",
            "74/74 [==============================] - 2s 23ms/step - loss: 0.8359 - accuracy: 0.5656 - val_loss: 0.8908 - val_accuracy: 0.5675\n",
            "Epoch 9/10\n",
            "74/74 [==============================] - 1s 20ms/step - loss: 0.8178 - accuracy: 0.5720 - val_loss: 0.8896 - val_accuracy: 0.5590\n",
            "Epoch 10/10\n",
            "74/74 [==============================] - 1s 19ms/step - loss: 0.7959 - accuracy: 0.5870 - val_loss: 0.8861 - val_accuracy: 0.5538\n",
            "19/19 - 0s - loss: 0.8861 - accuracy: 0.5538 - 101ms/epoch - 5ms/step\n",
            "\n",
            "Test accuracy: 0.5538461804389954\n",
            "19/19 [==============================] - 1s 5ms/step\n"
          ]
        }
      ]
    },
    {
      "cell_type": "code",
      "source": [
        "# Confusion matrix to see whats going on\n",
        "\n",
        "y_prediction_conf = intensity_model.predict(X_test_padded)\n",
        "y_prediction_conf = np.argmax(y_prediction_conf, axis=1)\n",
        "y_test_conf = np.argmax(y_test_intensity, axis=1)\n",
        "intensity_confusion = metrics.confusion_matrix(y_test_conf, y_prediction_conf, normalize='pred')\n",
        "print(intensity_confusion)"
      ],
      "metadata": {
        "colab": {
          "base_uri": "https://localhost:8080/"
        },
        "id": "nGVuAiZXxfX4",
        "outputId": "4dd7c891-4780-4f83-a7b6-4a8260a9b878"
      },
      "execution_count": 55,
      "outputs": [
        {
          "output_type": "stream",
          "name": "stdout",
          "text": [
            "19/19 [==============================] - 0s 6ms/step\n",
            "[[0.5310559  0.36363636 0.09139785]\n",
            " [0.36645963 0.32467532 0.22043011]\n",
            " [0.10248447 0.31168831 0.68817204]]\n"
          ]
        }
      ]
    },
    {
      "cell_type": "code",
      "source": [
        "# Experimenting with category model\n",
        "dict_word_count = 10000\n",
        "\n",
        "# Getting needed data\n",
        "classifications = df['Classification'].values\n",
        "classification_labels = [\"Arts\",\"Athletics\",\"Business\",\"Culture\",\"Government\",\"Professional\",\"Religion\",\"Service\",\"Social\",\"STEM\"]\n",
        "\n",
        "# Morphing data to fit into model\n",
        "X_train, X_test, y_train_category, y_test_category = get_training_data(queries, classifications, classification_labels)\n",
        "X_train_padded, X_test_padded, max_length = standardize_data(X_train, X_test, dict_word_count)\n",
        "\n",
        "# Create model\n",
        "category_model = Sequential([\n",
        "    Embedding(input_dim=dict_word_count, output_dim=32,input_length=max_length),\n",
        "    Bidirectional(LSTM(20,dropout=0.9)),\n",
        "    Dense(10, activation='softmax')\n",
        "])\n",
        "\n",
        "category_model.compile(loss='categorical_crossentropy', optimizer='adam', metrics=['accuracy'])\n",
        "category_model.summary()\n",
        "\n",
        "# Fit model and show how it went\n",
        "history = category_model.fit(X_train_padded, y_train_category, epochs=50, validation_data=(X_test_padded, y_test_category))\n",
        "test_loss, test_acc = category_model.evaluate(X_test_padded, y_test_category, verbose=2)\n",
        "\n",
        "print('\\nTest accuracy:', test_acc)\n",
        "\n",
        "predictions = category_model.predict(X_test_padded)\n",
        "predicted_categories = np.argmax(predictions, axis=1)\n",
        "\n",
        "category_model.save(\"category_model.keras\")"
      ],
      "metadata": {
        "colab": {
          "base_uri": "https://localhost:8080/"
        },
        "id": "VBB_DCex2gj6",
        "outputId": "166026b8-5a2c-4fa7-a05c-32454bfb19e1"
      },
      "execution_count": 57,
      "outputs": [
        {
          "output_type": "stream",
          "name": "stdout",
          "text": [
            "35\n",
            "Model: \"sequential_6\"\n",
            "_________________________________________________________________\n",
            " Layer (type)                Output Shape              Param #   \n",
            "=================================================================\n",
            " embedding_6 (Embedding)     (None, 35, 32)            320000    \n",
            "                                                                 \n",
            " bidirectional_3 (Bidirectio  (None, 40)               8480      \n",
            " nal)                                                            \n",
            "                                                                 \n",
            " dense_6 (Dense)             (None, 10)                410       \n",
            "                                                                 \n",
            "=================================================================\n",
            "Total params: 328,890\n",
            "Trainable params: 328,890\n",
            "Non-trainable params: 0\n",
            "_________________________________________________________________\n",
            "Epoch 1/50\n",
            "74/74 [==============================] - 20s 124ms/step - loss: 2.2989 - accuracy: 0.1189 - val_loss: 2.2950 - val_accuracy: 0.0769\n",
            "Epoch 2/50\n",
            "74/74 [==============================] - 3s 36ms/step - loss: 2.2770 - accuracy: 0.1620 - val_loss: 2.2318 - val_accuracy: 0.2547\n",
            "Epoch 3/50\n",
            "74/74 [==============================] - 3s 34ms/step - loss: 2.1489 - accuracy: 0.2540 - val_loss: 1.9252 - val_accuracy: 0.3009\n",
            "Epoch 4/50\n",
            "74/74 [==============================] - 3s 35ms/step - loss: 1.8522 - accuracy: 0.3566 - val_loss: 1.5629 - val_accuracy: 0.4838\n",
            "Epoch 5/50\n",
            "74/74 [==============================] - 3s 35ms/step - loss: 1.6714 - accuracy: 0.3852 - val_loss: 1.4484 - val_accuracy: 0.5316\n",
            "Epoch 6/50\n",
            "74/74 [==============================] - 4s 56ms/step - loss: 1.5254 - accuracy: 0.4416 - val_loss: 1.2909 - val_accuracy: 0.5829\n",
            "Epoch 7/50\n",
            "74/74 [==============================] - 3s 34ms/step - loss: 1.4080 - accuracy: 0.4938 - val_loss: 1.1544 - val_accuracy: 0.6325\n",
            "Epoch 8/50\n",
            "74/74 [==============================] - 3s 34ms/step - loss: 1.3077 - accuracy: 0.5460 - val_loss: 1.0564 - val_accuracy: 0.6974\n",
            "Epoch 9/50\n",
            "74/74 [==============================] - 3s 34ms/step - loss: 1.2328 - accuracy: 0.5622 - val_loss: 0.9825 - val_accuracy: 0.7145\n",
            "Epoch 10/50\n",
            "74/74 [==============================] - 3s 42ms/step - loss: 1.1549 - accuracy: 0.5994 - val_loss: 0.9237 - val_accuracy: 0.7214\n",
            "Epoch 11/50\n",
            "74/74 [==============================] - 4s 50ms/step - loss: 1.1072 - accuracy: 0.6221 - val_loss: 0.9248 - val_accuracy: 0.7265\n",
            "Epoch 12/50\n",
            "74/74 [==============================] - 3s 35ms/step - loss: 1.0618 - accuracy: 0.6383 - val_loss: 0.8486 - val_accuracy: 0.7538\n",
            "Epoch 13/50\n",
            "74/74 [==============================] - 3s 34ms/step - loss: 1.0206 - accuracy: 0.6533 - val_loss: 0.8090 - val_accuracy: 0.7744\n",
            "Epoch 14/50\n",
            "74/74 [==============================] - 2s 34ms/step - loss: 0.9583 - accuracy: 0.6862 - val_loss: 0.7624 - val_accuracy: 0.7949\n",
            "Epoch 15/50\n",
            "74/74 [==============================] - 3s 46ms/step - loss: 0.9463 - accuracy: 0.6751 - val_loss: 0.7477 - val_accuracy: 0.7966\n",
            "Epoch 16/50\n",
            "74/74 [==============================] - 4s 48ms/step - loss: 0.8883 - accuracy: 0.7076 - val_loss: 0.7464 - val_accuracy: 0.7846\n",
            "Epoch 17/50\n",
            "74/74 [==============================] - 3s 36ms/step - loss: 0.9120 - accuracy: 0.6917 - val_loss: 0.7433 - val_accuracy: 0.7966\n",
            "Epoch 18/50\n",
            "74/74 [==============================] - 3s 34ms/step - loss: 0.8488 - accuracy: 0.7136 - val_loss: 0.6882 - val_accuracy: 0.8171\n",
            "Epoch 19/50\n",
            "74/74 [==============================] - 3s 36ms/step - loss: 0.8282 - accuracy: 0.7238 - val_loss: 0.6680 - val_accuracy: 0.8239\n",
            "Epoch 20/50\n",
            "74/74 [==============================] - 4s 54ms/step - loss: 0.8338 - accuracy: 0.7204 - val_loss: 0.6806 - val_accuracy: 0.8034\n",
            "Epoch 21/50\n",
            "74/74 [==============================] - 3s 41ms/step - loss: 0.7530 - accuracy: 0.7448 - val_loss: 0.6310 - val_accuracy: 0.8137\n",
            "Epoch 22/50\n",
            "74/74 [==============================] - 3s 34ms/step - loss: 0.7853 - accuracy: 0.7315 - val_loss: 0.6544 - val_accuracy: 0.8017\n",
            "Epoch 23/50\n",
            "74/74 [==============================] - 3s 35ms/step - loss: 0.7410 - accuracy: 0.7499 - val_loss: 0.6153 - val_accuracy: 0.8256\n",
            "Epoch 24/50\n",
            "74/74 [==============================] - 3s 34ms/step - loss: 0.7336 - accuracy: 0.7550 - val_loss: 0.6192 - val_accuracy: 0.8171\n",
            "Epoch 25/50\n",
            "74/74 [==============================] - 4s 58ms/step - loss: 0.7320 - accuracy: 0.7478 - val_loss: 0.6134 - val_accuracy: 0.8359\n",
            "Epoch 26/50\n",
            "74/74 [==============================] - 3s 37ms/step - loss: 0.6876 - accuracy: 0.7666 - val_loss: 0.5873 - val_accuracy: 0.8342\n",
            "Epoch 27/50\n",
            "74/74 [==============================] - 3s 35ms/step - loss: 0.6755 - accuracy: 0.7708 - val_loss: 0.5893 - val_accuracy: 0.8479\n",
            "Epoch 28/50\n",
            "74/74 [==============================] - 3s 34ms/step - loss: 0.6463 - accuracy: 0.7794 - val_loss: 0.6232 - val_accuracy: 0.8051\n",
            "Epoch 29/50\n",
            "74/74 [==============================] - 3s 34ms/step - loss: 0.6702 - accuracy: 0.7687 - val_loss: 0.5912 - val_accuracy: 0.8325\n",
            "Epoch 30/50\n",
            "74/74 [==============================] - 4s 60ms/step - loss: 0.6559 - accuracy: 0.7807 - val_loss: 0.5528 - val_accuracy: 0.8479\n",
            "Epoch 31/50\n",
            "74/74 [==============================] - 3s 36ms/step - loss: 0.6175 - accuracy: 0.7888 - val_loss: 0.5508 - val_accuracy: 0.8427\n",
            "Epoch 32/50\n",
            "74/74 [==============================] - 3s 38ms/step - loss: 0.6122 - accuracy: 0.7935 - val_loss: 0.6043 - val_accuracy: 0.8051\n",
            "Epoch 33/50\n",
            "74/74 [==============================] - 3s 35ms/step - loss: 0.6339 - accuracy: 0.7871 - val_loss: 0.5318 - val_accuracy: 0.8444\n",
            "Epoch 34/50\n",
            "74/74 [==============================] - 3s 40ms/step - loss: 0.6013 - accuracy: 0.8003 - val_loss: 0.5633 - val_accuracy: 0.8376\n",
            "Epoch 35/50\n",
            "74/74 [==============================] - 4s 55ms/step - loss: 0.5712 - accuracy: 0.8063 - val_loss: 0.5337 - val_accuracy: 0.8410\n",
            "Epoch 36/50\n",
            "74/74 [==============================] - 3s 34ms/step - loss: 0.5803 - accuracy: 0.7978 - val_loss: 0.5104 - val_accuracy: 0.8598\n",
            "Epoch 37/50\n",
            "74/74 [==============================] - 3s 41ms/step - loss: 0.5411 - accuracy: 0.8243 - val_loss: 0.5520 - val_accuracy: 0.8462\n",
            "Epoch 38/50\n",
            "74/74 [==============================] - 3s 34ms/step - loss: 0.5780 - accuracy: 0.8050 - val_loss: 0.5170 - val_accuracy: 0.8479\n",
            "Epoch 39/50\n",
            "74/74 [==============================] - 4s 49ms/step - loss: 0.5770 - accuracy: 0.8080 - val_loss: 0.5280 - val_accuracy: 0.8564\n",
            "Epoch 40/50\n",
            "74/74 [==============================] - 4s 47ms/step - loss: 0.5595 - accuracy: 0.8127 - val_loss: 0.5087 - val_accuracy: 0.8581\n",
            "Epoch 41/50\n",
            "74/74 [==============================] - 3s 34ms/step - loss: 0.5560 - accuracy: 0.8093 - val_loss: 0.5127 - val_accuracy: 0.8615\n",
            "Epoch 42/50\n",
            "74/74 [==============================] - 3s 34ms/step - loss: 0.5428 - accuracy: 0.8153 - val_loss: 0.4865 - val_accuracy: 0.8650\n",
            "Epoch 43/50\n",
            "74/74 [==============================] - 3s 34ms/step - loss: 0.5107 - accuracy: 0.8286 - val_loss: 0.4913 - val_accuracy: 0.8701\n",
            "Epoch 44/50\n",
            "74/74 [==============================] - 4s 49ms/step - loss: 0.5088 - accuracy: 0.8371 - val_loss: 0.4844 - val_accuracy: 0.8615\n",
            "Epoch 45/50\n",
            "74/74 [==============================] - 3s 46ms/step - loss: 0.5269 - accuracy: 0.8251 - val_loss: 0.4837 - val_accuracy: 0.8650\n",
            "Epoch 46/50\n",
            "74/74 [==============================] - 3s 38ms/step - loss: 0.5224 - accuracy: 0.8234 - val_loss: 0.4774 - val_accuracy: 0.8701\n",
            "Epoch 47/50\n",
            "74/74 [==============================] - 4s 59ms/step - loss: 0.5003 - accuracy: 0.8350 - val_loss: 0.4963 - val_accuracy: 0.8564\n",
            "Epoch 48/50\n",
            "74/74 [==============================] - 4s 49ms/step - loss: 0.5291 - accuracy: 0.8162 - val_loss: 0.4829 - val_accuracy: 0.8684\n",
            "Epoch 49/50\n",
            "74/74 [==============================] - 4s 49ms/step - loss: 0.4918 - accuracy: 0.8358 - val_loss: 0.4836 - val_accuracy: 0.8735\n",
            "Epoch 50/50\n",
            "74/74 [==============================] - 3s 34ms/step - loss: 0.5019 - accuracy: 0.8350 - val_loss: 0.4871 - val_accuracy: 0.8667\n",
            "19/19 - 0s - loss: 0.4871 - accuracy: 0.8667 - 156ms/epoch - 8ms/step\n",
            "\n",
            "Test accuracy: 0.8666666746139526\n",
            "19/19 [==============================] - 1s 8ms/step\n"
          ]
        }
      ]
    },
    {
      "cell_type": "code",
      "source": [
        "print(X_train_padded)\n",
        "print(X_train_padded.shape)"
      ],
      "metadata": {
        "colab": {
          "base_uri": "https://localhost:8080/"
        },
        "id": "3gqc1Se7XJpe",
        "outputId": "4d23aaf1-e6b8-4449-8907-27b0ef3da28e"
      },
      "execution_count": 58,
      "outputs": [
        {
          "output_type": "stream",
          "name": "stdout",
          "text": [
            "[[  7  18   2 ...   0   0   0]\n",
            " [  6  12   2 ...   0   0   0]\n",
            " [  6  60  55 ...   0   0   0]\n",
            " ...\n",
            " [ 14   5  40 ...   0   0   0]\n",
            " [ 14   5 158 ...   0   0   0]\n",
            " [  6  52   2 ...   0   0   0]]\n",
            "(2339, 35)\n"
          ]
        }
      ]
    },
    {
      "cell_type": "code",
      "source": [
        "# Testing loading and using the models\n",
        "\n",
        "max_length = 35\n",
        "intensity_tokenizer = joblib.load('tokenizer_2500.joblib')\n",
        "loaded_intensity_model = keras.models.load_model(\"intensity_model.keras\")\n",
        "category_tokenizer = joblib.load('tokenizer_10000.joblib')\n",
        "loaded_category_model = keras.models.load_model(\"category_model.keras\")\n",
        "\n",
        "# get query\n",
        "query = \"I want to play some basket and soccer for fun, low commitment\"\n",
        "# intensity: tokensize and pad query\n",
        "query_seq = intensity_tokenizer.texts_to_sequences([query])\n",
        "query_padded = pad_sequences(query_seq, maxlen=max_length, padding='post')\n",
        "# intensity: get prediction\n",
        "intensity_prediction = intensity_model.predict(query_padded)\n",
        "# category: tokensize and pad query\n",
        "query_seq = category_tokenizer.texts_to_sequences([query])\n",
        "query_padded = pad_sequences(query_seq, maxlen=max_length, padding='post')\n",
        "# cateogry: get prediction\n",
        "category_prediction = category_model.predict(query_padded)"
      ],
      "metadata": {
        "id": "TAkCM2yZ5v2K",
        "colab": {
          "base_uri": "https://localhost:8080/"
        },
        "outputId": "da9f20f0-7a4f-4f58-ba36-2f8cc2ebd625"
      },
      "execution_count": 63,
      "outputs": [
        {
          "output_type": "stream",
          "name": "stdout",
          "text": [
            "1/1 [==============================] - 0s 31ms/step\n",
            "1/1 [==============================] - 0s 39ms/step\n"
          ]
        }
      ]
    },
    {
      "cell_type": "code",
      "source": [
        "print(intensity_prediction)\n",
        "print(category_prediction)\n",
        "\n",
        "print(intensity_labels[np.argmax(intensity_prediction)])\n",
        "print(classification_labels[np.argmax(category_prediction)])"
      ],
      "metadata": {
        "colab": {
          "base_uri": "https://localhost:8080/"
        },
        "id": "YgbWLfqWWdfS",
        "outputId": "d627b86f-a3ab-495c-d34e-7f973bdd5f0c"
      },
      "execution_count": 64,
      "outputs": [
        {
          "output_type": "stream",
          "name": "stdout",
          "text": [
            "[[0.46818143 0.4264311  0.10538749]]\n",
            "[[1.59279990e-03 6.15818858e-01 5.53428035e-05 2.87453859e-05\n",
            "  1.20340796e-04 9.29758389e-05 1.34425126e-02 2.38510314e-03\n",
            "  3.66401494e-01 6.18156482e-05]]\n",
            "1\n",
            "Athletics\n"
          ]
        }
      ]
    }
  ]
}